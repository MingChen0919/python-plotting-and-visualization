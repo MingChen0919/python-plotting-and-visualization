{
 "cells": [
  {
   "cell_type": "markdown",
   "metadata": {},
   "source": [
    "---\n",
    "# Axis\n",
    "---"
   ]
  },
  {
   "cell_type": "markdown",
   "metadata": {},
   "source": [
    "---\n",
    "## Axis Limits and Direction\n",
    "---"
   ]
  },
  {
   "cell_type": "code",
   "execution_count": 40,
   "metadata": {},
   "outputs": [],
   "source": [
    "%matplotlib inline\n",
    "import numpy as np\n",
    "import pandas as pd\n",
    "import matplotlib.pyplot as plt"
   ]
  },
  {
   "cell_type": "code",
   "execution_count": 24,
   "metadata": {},
   "outputs": [
    {
     "data": {
      "image/png": "[encoded data removed]",
      "text/plain": [
       "<matplotlib.figure.Figure at 0x116ffcb38>"
      ]
     },
     "metadata": {},
     "output_type": "display_data"
    }
   ],
   "source": [
    "fig, splots = plt.subplots(nrows=1, ncols=2, figsize=(12, 6))\n",
    "\n",
    "# assign subplots to a variable\n",
    "subplot_1 = splots[0]\n",
    "subplot_2 = splots[1]\n",
    "\n",
    "# subplot 1\n",
    "subplot_1.axes.set_facecolor('#A3E4D7')\n",
    "subplot_1.axes.set_ylim(bottom=1000, top=1) # invert xaxis by using limits\n",
    "subplot_1.axes.invert_yaxis()\n",
    "subplot_1.axes.set_yscale('symlog')\n",
    "\n",
    "# subplot 2\n",
    "subplot_2.axes.set_facecolor('#FAD7A0')\n",
    "subplot_2.axes.set_xlim(left=1, right=1000)\n",
    "subplot_2.axes.invert_xaxis()\n",
    "subplot_2.axes.set_xscale('log')\n"
   ]
  },
  {
   "cell_type": "markdown",
   "metadata": {},
   "source": [
    "---\n",
    "## Axis scales\n",
    "---"
   ]
  },
  {
   "cell_type": "markdown",
   "metadata": {},
   "source": [
    "**Accept 'linear', 'log', 'logit' and 'symlog'.**"
   ]
  },
  {
   "cell_type": "code",
   "execution_count": 32,
   "metadata": {},
   "outputs": [
    {
     "data": {
      "image/png": "[encoded data removed]",
      "text/plain": [
       "<matplotlib.figure.Figure at 0x11682c2b0>"
      ]
     },
     "metadata": {},
     "output_type": "display_data"
    }
   ],
   "source": [
    "sp = plt.subplot()\n",
    "sp.axes.set_facecolor('#48C9B0')\n",
    "sp.axes.set_xlim(1, 1000)\n",
    "sp.axes.set_ylim(0.01, 0.99) # values within (0, 1) for logit scaling\n",
    "\n",
    "sp.axes.set_xscale('log')\n",
    "sp.axes.set_yscale('logit') "
   ]
  },
  {
   "cell_type": "markdown",
   "metadata": {},
   "source": [
    "---\n",
    "## Axis labels and title\n",
    "---"
   ]
  },
  {
   "cell_type": "code",
   "execution_count": 36,
   "metadata": {},
   "outputs": [
    {
     "data": {
      "image/png": "[encoded data removed]",
      "text/plain": [
       "<matplotlib.figure.Figure at 0x1168a7588>"
      ]
     },
     "metadata": {},
     "output_type": "display_data"
    }
   ],
   "source": [
    "sp = plt.subplot()\n",
    "sp.axes.set_facecolor('#48C9B0')\n",
    "sp.axes.set_xlabel('This is the xlabel')\n",
    "sp.axes.set_ylabel('This is the ylabel')\n",
    "sp.axes.set_title('This is the title')\n",
    "plt.show()"
   ]
  },
  {
   "cell_type": "markdown",
   "metadata": {},
   "source": [
    "---\n",
    "## Axis ticks and tick labels\n",
    "---"
   ]
  },
  {
   "cell_type": "code",
   "execution_count": 55,
   "metadata": {},
   "outputs": [
    {
     "data": {
      "image/png": "[encoded data removed]",
      "text/plain": [
       "<matplotlib.figure.Figure at 0x11cc00780>"
      ]
     },
     "metadata": {},
     "output_type": "display_data"
    }
   ],
   "source": [
    "sp = plt.subplot()\n",
    "sp.axes.set_facecolor('#C39BD3')\n",
    "\n",
    "# set x ticks and x tick labels\n",
    "x_at = np.arange(0, 10)\n",
    "sp.axes.set_xticks(x_at)\n",
    "x_ticklabels = list('abcdefghij')\n",
    "sp.axes.set_xticklabels(x_ticklabels)\n",
    "\n",
    "# set y ticks and y tick labels\n",
    "y_at = np.arange(0, 10, step=2)\n",
    "sp.axes.set_yticks(y_at)\n",
    "y_ticklabels = list('ABCDE')\n",
    "sp.axes.set_yticklabels(y_ticklabels)\n",
    "plt.show()"
   ]
  },
  {
   "cell_type": "code",
   "execution_count": null,
   "metadata": {
    "collapsed": true
   },
   "outputs": [],
   "source": []
  }
 ],
 "metadata": {
  "kernelspec": {
   "display_name": "Python 3",
   "language": "python",
   "name": "python3"
  },
  "language_info": {
   "codemirror_mode": {
    "name": "ipython",
    "version": 3
   },
   "file_extension": ".py",
   "mimetype": "text/x-python",
   "name": "python",
   "nbconvert_exporter": "python",
   "pygments_lexer": "ipython3",
   "version": "3.6.1"
  }
 },
 "nbformat": 4,
 "nbformat_minor": 2
}
